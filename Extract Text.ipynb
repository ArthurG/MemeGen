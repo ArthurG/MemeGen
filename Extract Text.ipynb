{
 "cells": [
  {
   "cell_type": "code",
   "execution_count": 36,
   "metadata": {},
   "outputs": [],
   "source": [
    "import pandas as pd\n",
    "import time \n",
    "import requests\n",
    "from PIL import Image\n",
    "import pytesseract"
   ]
  },
  {
   "cell_type": "code",
   "execution_count": 33,
   "metadata": {},
   "outputs": [],
   "source": [
    "\"\"\"\n",
    "Convert the image to black and white to\n",
    "make the white text stand out more.\n",
    "This usually helps with extracting the text\n",
    "since the text is usually white.\n",
    "\"\"\"\n",
    "def darken_background(img, limit=255):\n",
    "    img = img.convert('L') # Create lookup table of rgb values\n",
    "    img = img.point(lambda x: 0 if x<limit else 255, '1') # Change each point\n",
    "    return img"
   ]
  },
  {
   "cell_type": "code",
   "execution_count": 9,
   "metadata": {},
   "outputs": [],
   "source": [
    "def download(image_url, title):\n",
    "    img_data = requests.get(image_url).content\n",
    "    with open(title, 'wb') as handler:\n",
    "        handler.write(img_data)"
   ]
  },
  {
   "cell_type": "code",
   "execution_count": 26,
   "metadata": {},
   "outputs": [],
   "source": [
    "df = pd.read_csv(\"advice.csv\")\n",
    "imgs = []\n",
    "for url in df[\"url\"]:\n",
    "    t = time.time()\n",
    "    if url.endswith(\".jpg\"):\n",
    "        img = \"{}.jpg\".format(t)\n",
    "    elif url.endswith(\".png\"):\n",
    "        img = \"{}.jpg\".format(t)\n",
    "    download(url, img)\n",
    "    imgs.append(img)\n",
    "    #elif \"imgur\" in url:\n",
    "    #    print(\"imgur: {}\".format(url))"
   ]
  },
  {
   "cell_type": "code",
   "execution_count": 39,
   "metadata": {},
   "outputs": [
    {
     "name": "stdout",
     "output_type": "stream",
     "text": [
      "WWWWEWWWEWW\n",
      "\n",
      "W: x nix;\n",
      "WWW Wixx’xxx ' xg‘u’ xx xrxxxxx h! xxW-ﬁﬁr W\n",
      "\n",
      "  \n",
      " \n",
      "\n",
      ", ,3 ﬂ :\n",
      "AW 2; xx ﬁx: I\n",
      "\n",
      "WSWW WEIW’ﬁ-i HEWW WWWWWW\n",
      "WWW EWWWWWWIW WWW WWWW WW WWWWWWW\n",
      "WW W WWW ‘WWWWWWWWW\n",
      "\n",
      "\n",
      ". “In”?\n",
      ",uum“ mum Q\n",
      "\n",
      "ﬁ'H\"\n",
      "\n",
      "   \n",
      "\n",
      "   \n",
      "  \n",
      "\n",
      ", NM“ _ ,\n",
      "\n",
      "3'\n",
      "\n",
      " \n",
      "\n",
      "a“ M; I\" :2: :4,»\n",
      "WI? M MN: 1% ”M\n",
      "\n",
      " \n",
      " \n",
      "\n",
      ", mm: (g:\n",
      "\n",
      "   \n",
      "   \n",
      " \n",
      "\n",
      "\n",
      "WWI? m WE $3M\n",
      "\n",
      " \n",
      "\n",
      "\n",
      "TDDIIY Wlll BE SDMEDNE'S lIIST DAV\n",
      "WITH THEIR PARENT. GHIlD DR SIBlINﬂ\n",
      "DllE TD II DRUNK DRIVING IIDDIDENT.\n",
      "IF Yﬂll ED DIIT DRINKING.\n",
      "\n",
      "DDN'T FIIDNIND DRIVE\n",
      "\n",
      "\n",
      " \n",
      "\n",
      "  \n",
      "     \n",
      "\n",
      "may\n",
      "\n",
      " \n",
      "\n",
      "11%: EM].\n",
      "\n",
      "\n",
      "OlDEST BROTHER lARElEI] HIS\n",
      "OIET \"TO: MOM FROM: YOUR\n",
      "FAVORITE\"\n",
      "\n",
      "MOM THANKEI] ME FOR\n",
      "IT\n",
      "\n",
      "\n",
      "ﬁﬂgﬁgfﬂaﬂmﬂﬂn M? ‘\n",
      "‘ , NH? h?”\n",
      "\n",
      " \n",
      " \n",
      "\n",
      " \n",
      "\n",
      "\n"
     ]
    },
    {
     "ename": "OSError",
     "evalue": "cannot identify image file '1521643531.3084621.jpg'",
     "output_type": "error",
     "traceback": [
      "\u001b[0;31m---------------------------------------------------------------------------\u001b[0m",
      "\u001b[0;31mOSError\u001b[0m                                   Traceback (most recent call last)",
      "\u001b[0;32m<ipython-input-39-45d91adf5f6b>\u001b[0m in \u001b[0;36m<module>\u001b[0;34m()\u001b[0m\n\u001b[1;32m      6\u001b[0m \u001b[0;32mwith\u001b[0m \u001b[0mPyTessBaseAPI\u001b[0m\u001b[0;34m(\u001b[0m\u001b[0;34m)\u001b[0m \u001b[0;32mas\u001b[0m \u001b[0mapi\u001b[0m\u001b[0;34m:\u001b[0m\u001b[0;34m\u001b[0m\u001b[0m\n\u001b[1;32m      7\u001b[0m     \u001b[0;32mfor\u001b[0m \u001b[0mimg\u001b[0m \u001b[0;32min\u001b[0m \u001b[0mimgs\u001b[0m\u001b[0;34m:\u001b[0m\u001b[0;34m\u001b[0m\u001b[0m\n\u001b[0;32m----> 8\u001b[0;31m         \u001b[0mim\u001b[0m \u001b[0;34m=\u001b[0m \u001b[0mImage\u001b[0m\u001b[0;34m.\u001b[0m\u001b[0mopen\u001b[0m\u001b[0;34m(\u001b[0m\u001b[0mimg\u001b[0m\u001b[0;34m)\u001b[0m\u001b[0;34m\u001b[0m\u001b[0m\n\u001b[0m\u001b[1;32m      9\u001b[0m         \u001b[0mim\u001b[0m \u001b[0;34m=\u001b[0m \u001b[0mdarken_background\u001b[0m\u001b[0;34m(\u001b[0m\u001b[0mim\u001b[0m\u001b[0;34m)\u001b[0m\u001b[0;34m\u001b[0m\u001b[0m\n\u001b[1;32m     10\u001b[0m         \u001b[0mprint\u001b[0m\u001b[0;34m(\u001b[0m\u001b[0mtesserocr\u001b[0m\u001b[0;34m.\u001b[0m\u001b[0mimage_to_text\u001b[0m\u001b[0;34m(\u001b[0m\u001b[0mim\u001b[0m\u001b[0;34m)\u001b[0m \u001b[0;34m)\u001b[0m\u001b[0;34m\u001b[0m\u001b[0m\n",
      "\u001b[0;32m~/anaconda3/lib/python3.6/site-packages/PIL/Image.py\u001b[0m in \u001b[0;36mopen\u001b[0;34m(fp, mode)\u001b[0m\n\u001b[1;32m   2583\u001b[0m         \u001b[0mfp\u001b[0m\u001b[0;34m.\u001b[0m\u001b[0mclose\u001b[0m\u001b[0;34m(\u001b[0m\u001b[0;34m)\u001b[0m\u001b[0;34m\u001b[0m\u001b[0m\n\u001b[1;32m   2584\u001b[0m     raise IOError(\"cannot identify image file %r\"\n\u001b[0;32m-> 2585\u001b[0;31m                   % (filename if filename else fp))\n\u001b[0m\u001b[1;32m   2586\u001b[0m \u001b[0;34m\u001b[0m\u001b[0m\n\u001b[1;32m   2587\u001b[0m \u001b[0;31m#\u001b[0m\u001b[0;34m\u001b[0m\u001b[0;34m\u001b[0m\u001b[0m\n",
      "\u001b[0;31mOSError\u001b[0m: cannot identify image file '1521643531.3084621.jpg'"
     ]
    }
   ],
   "source": [
    "from tesserocr import PyTessBaseAPI\n",
    "\n",
    "\n",
    "import tesserocr\n",
    "\n",
    "with PyTessBaseAPI() as api:\n",
    "    for img in imgs:\n",
    "        im = Image.open(img)\n",
    "        im = darken_background(im)\n",
    "        print(tesserocr.image_to_text(im) )\n",
    "        #print(pytesseract.image_to_string(im))\n"
   ]
  },
  {
   "cell_type": "code",
   "execution_count": 31,
   "metadata": {},
   "outputs": [
    {
     "name": "stdout",
     "output_type": "stream",
     "text": [
      "Requirement already satisfied: pytesseract in /home/ubuntu/anaconda3/lib/python3.6/site-packages\n",
      "Requirement already satisfied: Pillow in /home/ubuntu/anaconda3/lib/python3.6/site-packages (from pytesseract)\n",
      "\u001b[33mYou are using pip version 9.0.1, however version 9.0.2 is available.\n",
      "You should consider upgrading via the 'pip install --upgrade pip' command.\u001b[0m\n",
      "Requirement already satisfied: pillow in /home/ubuntu/anaconda3/lib/python3.6/site-packages\n",
      "\u001b[33mYou are using pip version 9.0.1, however version 9.0.2 is available.\n",
      "You should consider upgrading via the 'pip install --upgrade pip' command.\u001b[0m\n"
     ]
    }
   ],
   "source": [
    "!pip install pytesseract\n",
    "!pip install pillow"
   ]
  }
 ],
 "metadata": {
  "kernelspec": {
   "display_name": "Python 3",
   "language": "python",
   "name": "python3"
  },
  "language_info": {
   "codemirror_mode": {
    "name": "ipython",
    "version": 3
   },
   "file_extension": ".py",
   "mimetype": "text/x-python",
   "name": "python",
   "nbconvert_exporter": "python",
   "pygments_lexer": "ipython3",
   "version": "3.6.4"
  }
 },
 "nbformat": 4,
 "nbformat_minor": 2
}
